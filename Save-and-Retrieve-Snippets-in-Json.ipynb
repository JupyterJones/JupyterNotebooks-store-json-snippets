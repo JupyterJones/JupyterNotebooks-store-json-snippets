{
 "cells": [
  {
   "cell_type": "markdown",
   "metadata": {},
   "source": [
    "# Save and Retrieve Snippets in Json"
   ]
  },
  {
   "cell_type": "code",
   "execution_count": 27,
   "metadata": {},
   "outputs": [
    {
     "name": "stdout",
     "output_type": "stream",
     "text": [
      "Overwriting SnippetWarehouse.py\n"
     ]
    }
   ],
   "source": [
    "%%writefile SnippetWarehouse.py\n",
    "import json\n",
    "from shutil import copyfile\n",
    "import os\n",
    "if not os.path.exists('teststuff'):\n",
    "    os.makedirs('teststuff')\n",
    "def SnippetJson(name,codes):\n",
    "    copyfile('teststuff/snippets.json', 'teststuff/snippets-temp.json')\n",
    "    count = 0 \n",
    "    for line in codes.split('\\n'): \n",
    "        if len(line) > 0: \n",
    "            count = count +1 \n",
    "    f0 = open('teststuff/snippets-temp.json', 'r').readlines()\n",
    "    f1 = open('teststuff/snippets.json', 'w')\n",
    "    for line in f0: \n",
    "        if line[0:2] != \"]}\": \n",
    "            f1.write(line) \n",
    "    f1.write('            ,{ \"name\" : \"'+name+'\", \"code\" :[')\n",
    "    codes =codes.split(\"\\n\") \n",
    "    cnt = 0 \n",
    "    for line in codes: \n",
    "        if len(line) > 0: \n",
    "            cnt = cnt+1 \n",
    "            line = line.replace('\"','\\\\\"')\n",
    "            line = line.replace('\\\\n','\\n')\n",
    "            print (\"::\",cnt,line)\n",
    "            if cnt != count: \n",
    "                f1.write('              \"'+line+'\",\\n')\n",
    "            if cnt == count: \n",
    "                f1.write('              \"'+line+'\"\\n')\n",
    "    f1.write('            ]}\\n')\n",
    "    f1.write(']}\\n') \n",
    "    f1.close() \n",
    "\n",
    "def GetSnip():\n",
    "    with open('teststuff/snippets.json') as f:\n",
    "        data = json.load(f)\n",
    "        NUM = (len(data[\"snippets\"]))\n",
    "    for x in range(NUM):\n",
    "        name = data[\"snippets\"][x][\"name\"]\n",
    "        print (x,name)\n",
    "    print (\"=======================\\n\")    \n",
    "    NU = input(\"Pick a Number: \")\n",
    "    NU = int(NU)\n",
    "    for x in range(NUM):\n",
    "        if x == NU:\n",
    "            text = data[\"snippets\"][x][\"code\"]\n",
    "            for line in text:\n",
    "                print(line)    "
   ]
  },
  {
   "cell_type": "code",
   "execution_count": 32,
   "metadata": {},
   "outputs": [
    {
     "data": {
      "text/plain": [
       "10648"
      ]
     },
     "execution_count": 32,
     "metadata": {},
     "output_type": "execute_result"
    }
   ],
   "source": [
    "22*22*22"
   ]
  },
  {
   "cell_type": "code",
   "execution_count": 28,
   "metadata": {},
   "outputs": [
    {
     "name": "stdout",
     "output_type": "stream",
     "text": [
      ":: 1 import os\n",
      ":: 2 f = open('sqlitedatabases.txt', 'r').readlines()\n",
      ":: 3 f0 = open('sqlitedatabases-size.txt', 'w')\n",
      ":: 4 for line in f:\n",
      ":: 5     line = line.replace('\n",
      ":: 6 ','')\n",
      ":: 7     sz = os.path.getsize(line)\n",
      ":: 8     sz=str(sz)\n",
      ":: 9     f0.write(line+', '+sz+'\n",
      ":: 10 ')\n",
      ":: 11 f0.close()\n"
     ]
    }
   ],
   "source": [
    "from SnippetWarehouse import *\n",
    "#GetSnip()\n",
    "name = 'Get DirSize'\n",
    "codes =\"\"\"\n",
    "import os\n",
    "f = open('sqlitedatabases.txt', 'r').readlines()\n",
    "f0 = open('sqlitedatabases-size.txt', 'w')\n",
    "for line in f:\n",
    "    line = line.replace('\\n','')\n",
    "    sz = os.path.getsize(line)\n",
    "    sz=str(sz)\n",
    "    f0.write(line+', '+sz+'\\n')\n",
    "f0.close()\n",
    "\"\"\"\n",
    "SnippetJson(name,codes)"
   ]
  },
  {
   "cell_type": "code",
   "execution_count": 29,
   "metadata": {},
   "outputs": [
    {
     "name": "stdout",
     "output_type": "stream",
     "text": [
      "0 HELP\n",
      "1 Add Snippet\n",
      "2 View snippet.jsons\n",
      "3 random pause\n",
      "4 ignore numpy warnings\n",
      "5 Store Ext path\n",
      "6 FTS4 database\n",
      "7 mkdir if/not exist\n",
      "8 Get DirSize\n",
      "9 Get DirSize\n",
      "=======================\n",
      "\n",
      "Pick a Number: 9\n",
      "import os\n",
      "f = open('sqlitedatabases.txt', 'r').readlines()\n",
      "f0 = open('sqlitedatabases-size.txt', 'w')\n",
      "for line in f:\n",
      "    line = line.replace('\n",
      "','')\n",
      "    sz = os.path.getsize(line)\n",
      "    sz=str(sz)\n",
      "    f0.write(line+', '+sz+'\n",
      "')\n",
      "f0.close()\n"
     ]
    }
   ],
   "source": [
    "from SnippetWarehouse import *\n",
    "GetSnip()"
   ]
  },
  {
   "cell_type": "code",
   "execution_count": null,
   "metadata": {},
   "outputs": [],
   "source": []
  },
  {
   "cell_type": "code",
   "execution_count": null,
   "metadata": {},
   "outputs": [],
   "source": []
  }
 ],
 "metadata": {
  "kernelspec": {
   "display_name": "Python [conda env:py35]",
   "language": "python",
   "name": "conda-env-py35-py"
  },
  "language_info": {
   "codemirror_mode": {
    "name": "ipython",
    "version": 3
   },
   "file_extension": ".py",
   "mimetype": "text/x-python",
   "name": "python",
   "nbconvert_exporter": "python",
   "pygments_lexer": "ipython3",
   "version": "3.5.4"
  }
 },
 "nbformat": 4,
 "nbformat_minor": 2
}
